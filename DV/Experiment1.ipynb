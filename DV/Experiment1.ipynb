{
 "cells": [
  {
   "cell_type": "markdown",
   "metadata": {},
   "source": [
    "# __Experiment No. 1 : Understanding Basic Python Visualization Tools__"
   ]
  },
  {
   "cell_type": "markdown",
   "metadata": {},
   "source": [
    "> * __Name : ABHISHEK SUBHASH SWAMI__ \n",
    "> * __Roll No. : 13__"
   ]
  },
  {
   "cell_type": "markdown",
   "metadata": {},
   "source": [
    "## __1. Matplotlib__ "
   ]
  },
  {
   "cell_type": "code",
   "execution_count": null,
   "metadata": {},
   "outputs": [],
   "source": [
    "import matplotlib.pyplot as plt\n",
    "import numpy as np\n",
    "\n",
    "# Sample data\n",
    "x = np.random.randint(1,100,50)\n",
    "y = np.random.randint(1,100,50)"
   ]
  },
  {
   "cell_type": "markdown",
   "metadata": {},
   "source": [
    "* ### Scatter Plot"
   ]
  },
  {
   "cell_type": "code",
   "execution_count": null,
   "metadata": {},
   "outputs": [],
   "source": [
    "# Plotting\n",
    "plt.scatter(x, y,color='red')\n",
    "plt.xlabel('X-axis')\n",
    "plt.ylabel('Y-axis')\n",
    "plt.title('Simple Scatter Plot')\n",
    "plt.show()\n"
   ]
  },
  {
   "cell_type": "markdown",
   "metadata": {},
   "source": [
    "* ### Histogram"
   ]
  },
  {
   "cell_type": "code",
   "execution_count": null,
   "metadata": {},
   "outputs": [],
   "source": [
    "\n",
    "# Generating random data\n",
    "data = np.random.randn(1000)\n",
    "\n",
    "# Plotting histogram\n",
    "plt.hist(data, bins=30,color='orange')\n",
    "plt.xlabel('Value')\n",
    "plt.ylabel('Frequency')\n",
    "plt.title('Histogram')\n",
    "plt.show()"
   ]
  },
  {
   "cell_type": "markdown",
   "metadata": {},
   "source": [
    "* ### Barplot"
   ]
  },
  {
   "cell_type": "code",
   "execution_count": null,
   "metadata": {},
   "outputs": [],
   "source": [
    "\n",
    "categories = ['A', 'B', 'C', 'D']\n",
    "colours=['red','green','blue','orange']\n",
    "values = [3, 6, 2, 5]\n",
    "\n",
    "# Plotting\n",
    "plt.bar(categories, values,color=colours)\n",
    "plt.xlabel('Categories')\n",
    "plt.ylabel('Values')\n",
    "plt.title('Bar Plot')\n",
    "# Adding a label to each bar\n",
    "for i in range(len(categories)):\n",
    "    plt.text(i-0.1, values[i]+0.05, str(categories[i])+str('=')+str(values[i]))\n",
    "\n",
    "\n",
    "plt.show()\n"
   ]
  },
  {
   "cell_type": "markdown",
   "metadata": {},
   "source": [
    "## __2. Seaborn__\n",
    "\n",
    "* ### Scatter Plot:"
   ]
  },
  {
   "cell_type": "code",
   "execution_count": null,
   "metadata": {},
   "outputs": [],
   "source": [
    "import seaborn as sns\n",
    "import pandas as pd\n",
    "\n",
    "# Sample data as a pandas DataFrame\n",
    "data = pd.DataFrame({\n",
    "    'X': [1, 2, 3, 4, 5],\n",
    "    'Y': [2, 3, 2, 6, 7]\n",
    "})\n",
    "\n",
    "# Scatter plot using Seaborn\n",
    "sns.scatterplot(x='X', y='Y', data=data)"
   ]
  },
  {
   "cell_type": "markdown",
   "metadata": {},
   "source": [
    "* ### Histogram:\n"
   ]
  },
  {
   "cell_type": "code",
   "execution_count": null,
   "metadata": {},
   "outputs": [],
   "source": [
    "\n",
    "import seaborn as sns\n",
    "import numpy as np\n",
    "\n",
    "# Generate random data using NumPy\n",
    "data = np.random.randn(1000)\n",
    "\n",
    "# Histogram using Seaborn\n",
    "sns.histplot(data, bins=30)"
   ]
  },
  {
   "cell_type": "markdown",
   "metadata": {},
   "source": [
    "\n",
    "* ### Line Plot:\n"
   ]
  },
  {
   "cell_type": "code",
   "execution_count": null,
   "metadata": {},
   "outputs": [],
   "source": [
    "\n",
    "import seaborn as sns\n",
    "import pandas as pd\n",
    "\n",
    "# Sample data as a pandas DataFrame\n",
    "data = pd.DataFrame({\n",
    "    'X': range(10),\n",
    "    'Y': [3, 5, 2, 7, 4, 6, 8, 3, 5, 4]\n",
    "})\n",
    "\n",
    "# Line plot using Seaborn\n",
    "sns.lineplot(x='X', y='Y', data=data)\n",
    "\n"
   ]
  },
  {
   "cell_type": "markdown",
   "metadata": {},
   "source": [
    "\n",
    "* ### Bar Plot:\n"
   ]
  },
  {
   "cell_type": "code",
   "execution_count": null,
   "metadata": {},
   "outputs": [],
   "source": [
    "\n",
    "import seaborn as sns\n",
    "import pandas as pd\n",
    "\n",
    "# Sample data as a pandas DataFrame\n",
    "data = pd.DataFrame({\n",
    "    'Categories': ['A', 'B', 'C', 'D'],\n",
    "    'Values': [3, 7, 2, 5]\n",
    "})\n",
    "\n",
    "# Bar plot using Seaborn\n",
    "sns.barplot(x='Categories', y='Values', data=data)\n"
   ]
  },
  {
   "cell_type": "markdown",
   "metadata": {},
   "source": [
    "## **3. Plotly:**\n",
    "   - Offers a high-level interface for creating complex visualizations.\n",
    "   - Simpler syntax.\n",
    "   - Dynamic plots and graphs for both  Python and JavaScript.\n",
    "   "
   ]
  },
  {
   "cell_type": "code",
   "execution_count": null,
   "metadata": {},
   "outputs": [],
   "source": [
    "import plotly.express as px\n",
    "import numpy as np"
   ]
  },
  {
   "cell_type": "markdown",
   "metadata": {},
   "source": [
    "* ### Scatter Plot:"
   ]
  },
  {
   "cell_type": "code",
   "execution_count": null,
   "metadata": {},
   "outputs": [],
   "source": [
    "\n",
    "sample_x = np.random.randint(1, 100, 50)\n",
    "sample_y = np.random.randint(1, 100, 50)\n",
    "\n",
    "fig = px.scatter(x=sample_x, y=sample_y, title='Scatter Plot')\n",
    "fig.show()\n"
   ]
  },
  {
   "cell_type": "markdown",
   "metadata": {},
   "source": [
    "* ### Bar Plot:"
   ]
  },
  {
   "cell_type": "code",
   "execution_count": null,
   "metadata": {},
   "outputs": [],
   "source": [
    "\n",
    "categories = ['A', 'B', 'C', 'D']\n",
    "colours = ['red', 'green', 'blue', 'orange']\n",
    "values = [3, 6, 2, 5]\n",
    "\n",
    "fig = px.bar(x=categories, y=values, color=colours, title='Bar Chart')\n",
    "fig.show()\n"
   ]
  },
  {
   "cell_type": "markdown",
   "metadata": {},
   "source": [
    "* ### line graph:"
   ]
  },
  {
   "cell_type": "code",
   "execution_count": null,
   "metadata": {},
   "outputs": [],
   "source": [
    "import plotly.express as px\n",
    "import pandas as pd\n",
    "\n",
    "data = pd.DataFrame({\n",
    "    'X': [1, 2, 3, 4, 5],\n",
    "    'Y': [1, 3, 2, 5, 8]\n",
    "})\n",
    "\n",
    "fig = px.line(data, x='X', y='Y', title='Line Graph')\n",
    "fig.show()\n"
   ]
  },
  {
   "cell_type": "markdown",
   "metadata": {},
   "source": [
    "* ### Histogram:"
   ]
  },
  {
   "cell_type": "code",
   "execution_count": null,
   "metadata": {},
   "outputs": [],
   "source": [
    "data = np.random.randn(1000)\n",
    "\n",
    "fig = px.histogram(x=data, title='Histogram')\n",
    "fig.show()\n"
   ]
  },
  {
   "cell_type": "markdown",
   "metadata": {},
   "source": [
    "## **4. Plotnine (Grammar of Graphics in Python):**\n",
    "   - Based on the Grammar of Graphics, inspired by ggplot2 in R.\n",
    "   - Offers a high-level interface for creating complex visualizations.\n",
    "   - Emphasizes a declarative approach to building plots.\n",
    "   "
   ]
  },
  {
   "cell_type": "code",
   "execution_count": null,
   "metadata": {},
   "outputs": [],
   "source": [
    "from plotnine import ggplot, geom_point, aes\n",
    "from plotnine.data import mtcars\n",
    "ggplot(mtcars, aes(x='wt', y='mpg')) + geom_point()"
   ]
  }
 ],
 "metadata": {
  "kernelspec": {
   "display_name": "Python 3 (ipykernel)",
   "language": "python",
   "name": "python3"
  },
  "language_info": {
   "codemirror_mode": {
    "name": "ipython",
    "version": 3
   },
   "file_extension": ".py",
   "mimetype": "text/x-python",
   "name": "python",
   "nbconvert_exporter": "python",
   "pygments_lexer": "ipython3",
   "version": "3.9.9"
  }
 },
 "nbformat": 4,
 "nbformat_minor": 2
}
